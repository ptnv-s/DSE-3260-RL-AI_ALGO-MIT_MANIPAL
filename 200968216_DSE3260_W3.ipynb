{
  "cells": [
    {
      "cell_type": "markdown",
      "source": [
        "# DSE 3260\n",
        "## Week - 3\n",
        "### Reg. No - 200968216\n",
        "#### Pratinav Seth "
      ],
      "metadata": {
        "id": "fvoFJvZ5TXee"
      }
    },
    {
      "cell_type": "markdown",
      "source": [
        "<b>The Game:</b><br>\n",
        "According to the “Six Degrees of Kevin Bacon” game, anyone in the Hollywood film industry can be connected to Kevin Bacon within six steps, where each step consists of finding a film that two actors both starred in. To solve the problem, find the shortest path between any two actors by choosing a sequence of movies that connects them. For example, the shortest path between Jennifer Lawrence and Tom Hanks is 2: Jennifer Lawrence is connected to Kevin Bacon by both starring in “X-Men:  First Class,” and Kevin Bacon is connected to Tom Hanks by both starring in “Apollo 13.”<br><br>\n",
        "<b>Problem Solving Agent:</b><br>\n",
        "Given two actors nodes in the graph we need to find the distance (shortest path) between the nodes. Write a python program to determine how many “degrees of separation” apart two actors are. Find the distance or the degree of separation., using\n",
        "\n",
        "1.   Breadth first search\n",
        "2.   Depth first search\n",
        "\n"
      ],
      "metadata": {
        "id": "Eq8ziq0yTsyQ"
      }
    },
    {
      "cell_type": "code",
      "execution_count": 1,
      "metadata": {
        "id": "SaoCUmvI3u-0",
        "colab": {
          "base_uri": "https://localhost:8080/"
        },
        "outputId": "3265f4c0-7d8d-4bff-f813-01c50a98e92a"
      },
      "outputs": [
        {
          "output_type": "stream",
          "name": "stdout",
          "text": [
            "Downloading...\n",
            "From: https://cdn.cs50.net/ai/2020/x/projects/0/degrees.zip\n",
            "To: /content/degrees.zip\n",
            "100% 22.7M/22.7M [00:00<00:00, 81.9MB/s]\n",
            "Archive:  /content/degrees.zip\n",
            "   creating: degrees/\n",
            "   creating: degrees/large/\n",
            "  inflating: degrees/large/stars.csv  \n",
            "  inflating: degrees/large/people.csv  \n",
            "  inflating: degrees/large/movies.csv  \n",
            "  inflating: degrees/util.py         \n",
            "  inflating: degrees/degrees.py      \n",
            "   creating: degrees/small/\n",
            "  inflating: degrees/small/stars.csv  \n",
            "  inflating: degrees/small/people.csv  \n",
            "  inflating: degrees/small/movies.csv  \n"
          ]
        }
      ],
      "source": [
        "!gdown https://cdn.cs50.net/ai/2020/x/projects/0/degrees.zip\n",
        "!unzip /content/degrees.zip\n",
        "!rm /content/degrees.zip"
      ]
    },
    {
      "cell_type": "code",
      "execution_count": 2,
      "metadata": {
        "id": "EEzh6rYe355E"
      },
      "outputs": [],
      "source": [
        "class Node():\n",
        "    def __init__(self, state, parent, action):\n",
        "        self.state = state\n",
        "        self.parent = parent\n",
        "        self.action = action"
      ]
    },
    {
      "cell_type": "markdown",
      "source": [
        "We copy util.py for ease of usage. "
      ],
      "metadata": {
        "id": "LN8s6LZAWsQI"
      }
    },
    {
      "cell_type": "code",
      "execution_count": 3,
      "metadata": {
        "id": "i3xEHPDh6bQ8"
      },
      "outputs": [],
      "source": [
        "class StackFrontier():\n",
        "    def __init__(self):\n",
        "        self.frontier = []\n",
        "\n",
        "    def add(self, node):\n",
        "        self.frontier.append(node)\n",
        "\n",
        "    def contains_state(self, state):\n",
        "        return any(node.state == state for node in self.frontier)\n",
        "\n",
        "    def empty(self):\n",
        "        return len(self.frontier) == 0\n",
        "\n",
        "    def remove(self):\n",
        "        if self.empty():\n",
        "            raise Exception(\"empty frontier\")\n",
        "        else:\n",
        "            node = self.frontier[-1]\n",
        "            self.frontier = self.frontier[:-1]\n",
        "            return node"
      ]
    },
    {
      "cell_type": "code",
      "execution_count": 4,
      "metadata": {
        "id": "mESfpXmZ6d26"
      },
      "outputs": [],
      "source": [
        "class QueueFrontier(StackFrontier):\n",
        "\n",
        "    def remove(self):\n",
        "        if self.empty():\n",
        "            raise Exception(\"empty frontier\")\n",
        "        else:\n",
        "            node = self.frontier[0]\n",
        "            self.frontier = self.frontier[1:]\n",
        "            return node"
      ]
    },
    {
      "cell_type": "code",
      "execution_count": 5,
      "metadata": {
        "id": "F_cUyEsw4eCM"
      },
      "outputs": [],
      "source": [
        "import csv\n",
        "import sys\n",
        "\n",
        "names = {}\n",
        "people = {}\n",
        "movies = {}"
      ]
    },
    {
      "cell_type": "markdown",
      "source": [
        "We copy degree.py for ease of usage. "
      ],
      "metadata": {
        "id": "_eRjmm8vWu5O"
      }
    },
    {
      "cell_type": "code",
      "execution_count": 6,
      "metadata": {
        "id": "9cyVwHJp6iJ8"
      },
      "outputs": [],
      "source": [
        "def load_data(directory):\n",
        "    \"\"\"\n",
        "    Load data from CSV files into memory.\n",
        "    \"\"\"\n",
        "    # Load people\n",
        "    with open(f\"{directory}/people.csv\", encoding=\"utf-8\") as f:\n",
        "        reader = csv.DictReader(f)\n",
        "        for row in reader:\n",
        "            people[row[\"id\"]] = {\n",
        "                \"name\": row[\"name\"],\n",
        "                \"birth\": row[\"birth\"],\n",
        "                \"movies\": set()\n",
        "            }\n",
        "            if row[\"name\"].lower() not in names:\n",
        "                names[row[\"name\"].lower()] = {row[\"id\"]}\n",
        "            else:\n",
        "                names[row[\"name\"].lower()].add(row[\"id\"])\n",
        "\n",
        "    # Load movies\n",
        "    with open(f\"{directory}/movies.csv\", encoding=\"utf-8\") as f:\n",
        "        reader = csv.DictReader(f)\n",
        "        for row in reader:\n",
        "            movies[row[\"id\"]] = {\n",
        "                \"title\": row[\"title\"],\n",
        "                \"year\": row[\"year\"],\n",
        "                \"stars\": set()\n",
        "            }\n",
        "\n",
        "    # Load stars\n",
        "    with open(f\"{directory}/stars.csv\", encoding=\"utf-8\") as f:\n",
        "        reader = csv.DictReader(f)\n",
        "        for row in reader:\n",
        "            try:\n",
        "                people[row[\"person_id\"]][\"movies\"].add(row[\"movie_id\"])\n",
        "                movies[row[\"movie_id\"]][\"stars\"].add(row[\"person_id\"])\n",
        "            except KeyError:\n",
        "                pass"
      ]
    },
    {
      "cell_type": "markdown",
      "source": [
        "We make changes to distribution code inorder to incorpate multiple search algorithms."
      ],
      "metadata": {
        "id": "VYhU3XjLWy97"
      }
    },
    {
      "cell_type": "code",
      "execution_count": 7,
      "metadata": {
        "id": "xnPqlItR6l4o"
      },
      "outputs": [],
      "source": [
        "def main():\n",
        "    directory = '/content/degrees/small'\n",
        "    print(\"Loading data........................\")\n",
        "    load_data(directory)\n",
        "    print(\"Data loaded.......................\")\n",
        "    source = person_id_for_name(input(\"Name: \"))\n",
        "    if source is None:\n",
        "        sys.exit(\"Person not found.\")\n",
        "    target = person_id_for_name(input(\"Name: \"))\n",
        "    if target is None:\n",
        "        sys.exit(\"Person not found.\")\n",
        "    print(\"\\n********************\\n\")\n",
        "    print(\"Implementing bfs for finding degrees of separation and the path:\")\n",
        "    print(\"------\")\n",
        "    path = bfs_path(source, target)\n",
        "    if path is None:\n",
        "        print(\"Not connected.\")\n",
        "    else:\n",
        "        degrees = len(path)\n",
        "        print(f\"{degrees} degrees of separation.\")\n",
        "        path = [(None, source)] + path\n",
        "        for i in range(degrees):\n",
        "            person1 = people[path[i][1]][\"name\"]\n",
        "            person2 = people[path[i + 1][1]][\"name\"]\n",
        "            movie = movies[path[i + 1][0]][\"title\"]\n",
        "            print(f\"{i + 1}: {person1} and {person2} starred in {movie}\")\n",
        "    \n",
        "    print(\"\\n************\\n\")\n",
        "    print(\"Implementing dfs for finding degrees of separation and the path:\")\n",
        "    print(\"***********\")\n",
        "    path = dfs_path(source, target)\n",
        "\n",
        "    if path is None:\n",
        "        print(\"Not connected.\")\n",
        "    else:\n",
        "        degrees = len(path)\n",
        "        print(f\"{degrees} degrees of separation.\")\n",
        "        path = [(None, source)] + path\n",
        "        for i in range(degrees):\n",
        "            person1 = people[path[i][1]][\"name\"]\n",
        "            person2 = people[path[i + 1][1]][\"name\"]\n",
        "            movie = movies[path[i + 1][0]][\"title\"]\n",
        "            print(f\"{i + 1}: {person1} and {person2} starred in {movie}\")"
      ]
    },
    {
      "cell_type": "code",
      "execution_count": 8,
      "metadata": {
        "id": "Yatpb4Ls6o_9"
      },
      "outputs": [],
      "source": [
        "def bfs_path(source, target):\n",
        "    if source == None:\n",
        "      return None\n",
        "\n",
        "    if source == target:\n",
        "      return []\n",
        "\n",
        "    start = Node(source, None, None)\n",
        "    frontier  = QueueFrontier()\n",
        "    frontier.add(start)\n",
        "    exploredset = set()\n",
        "\n",
        "    while True:\n",
        "      if frontier.empty():\n",
        "        print('Frontier is Empty - No Connection/Path Between Actors was found!')\n",
        "        print(len(exploredset), 'actors were explored with no solution/path found between the source and target!')\n",
        "        return None\n",
        "        \n",
        "      frontnode = frontier.remove()\n",
        "      exploredset.add(frontnode.state)\n",
        "      neighbors = neighbors_for_person(frontnode.state)\n",
        "\n",
        "      for action, state in neighbors:\n",
        "\n",
        "        if frontier.contains_state(state) or state in exploredset:\n",
        "          continue\n",
        "        \n",
        "        if state == target:\n",
        "          path = []\n",
        "          path.append((action, state))\n",
        "\n",
        "          while frontnode.parent != None:\n",
        "            path.append((frontnode.action, frontnode.state))\n",
        "            frontnode = frontnode.parent\n",
        "\n",
        "          path.reverse()\n",
        "\n",
        "          return path\n",
        "\n",
        "        newnode = Node(state, frontnode, action)\n",
        "        frontier.add(newnode)"
      ]
    },
    {
      "cell_type": "code",
      "source": [
        "def dfs_path(source, target):\n",
        "    if source == None:\n",
        "      return None\n",
        "\n",
        "    if source == target:\n",
        "      return []\n",
        "\n",
        "    start = Node(source, None, None)\n",
        "    frontier  = StackFrontier()\n",
        "    frontier.add(start)\n",
        "    exploredset = set()\n",
        "\n",
        "    while True:\n",
        "\n",
        "      if frontier.empty():\n",
        "        print('Frontier is Empty - No Connection/Path Between Actors was found!')\n",
        "        print(len(exploredset), 'actors were explored with no solution/path found between the source and target!')\n",
        "        return None\n",
        "            \n",
        "      frontnode = frontier.remove()\n",
        "      exploredset.add(frontnode.state)\n",
        "      neighbors = neighbors_for_person(frontnode.state)\n",
        "\n",
        "      for action, state in neighbors:\n",
        "        \n",
        "        if frontier.contains_state(state) or state in exploredset:\n",
        "          continue\n",
        "            \n",
        "        if not frontier.contains_state(state) and state not in exploredset:\n",
        "          child = Node(state, frontnode, action)\n",
        "\n",
        "          if child.state == target:\n",
        "            path = []\n",
        "            while child.parent is not None:\n",
        "              path.append((child.action, child.state))\n",
        "              child = child.parent\n",
        "            path.reverse()\n",
        "            return path\n",
        "          else:\n",
        "            frontier.add(child)"
      ],
      "metadata": {
        "id": "vLBqwoxaRaRS"
      },
      "execution_count": 9,
      "outputs": []
    },
    {
      "cell_type": "code",
      "execution_count": 10,
      "metadata": {
        "id": "0hCU2OzU6who"
      },
      "outputs": [],
      "source": [
        "def person_id_for_name(name):\n",
        "    person_ids = list(names.get(name.lower(), set()))\n",
        "    if len(person_ids) == 0:\n",
        "        return None\n",
        "    elif len(person_ids) > 1:\n",
        "        print(f\"Which '{name}'?\")\n",
        "        for person_id in person_ids:\n",
        "            person = people[person_id]\n",
        "            name = person[\"name\"]\n",
        "            birth = person[\"birth\"]\n",
        "            print(f\"ID: {person_id}, Name: {name}, Birth: {birth}\")\n",
        "        try:\n",
        "            person_id = input(\"Intended Person ID: \")\n",
        "            if person_id in person_ids:\n",
        "                return person_id\n",
        "        except ValueError:\n",
        "            pass\n",
        "        return None\n",
        "    else:\n",
        "        return person_ids[0]"
      ]
    },
    {
      "cell_type": "code",
      "execution_count": 11,
      "metadata": {
        "id": "d6NNdKTv6zEo"
      },
      "outputs": [],
      "source": [
        "def neighbors_for_person(person_id):\n",
        "    movie_ids = people[person_id][\"movies\"]\n",
        "    neighbors = set()\n",
        "    for movie_id in movie_ids:\n",
        "      for person_id in movies[movie_id][\"stars\"]:\n",
        "        neighbors.add((movie_id, person_id))\n",
        "    return neighbors"
      ]
    },
    {
      "cell_type": "code",
      "execution_count": 15,
      "metadata": {
        "id": "cdXUKMvH63OZ",
        "colab": {
          "base_uri": "https://localhost:8080/"
        },
        "outputId": "3f6bfdc1-dfd8-46c2-e8c5-e9cef033f46c"
      },
      "outputs": [
        {
          "output_type": "stream",
          "name": "stdout",
          "text": [
            "Loading data........................\n",
            "Data loaded.......................\n",
            "Name: Kevin Bacon\n",
            "Name: Tom Cruise\n",
            "\n",
            "********************\n",
            "\n",
            "Implementing bfs for finding degrees of separation and the path:\n",
            "------\n",
            "1 degrees of separation.\n",
            "1: Kevin Bacon and Tom Cruise starred in A Few Good Men\n",
            "\n",
            "************\n",
            "\n",
            "Implementing dfs for finding degrees of separation and the path:\n",
            "***********\n",
            "1 degrees of separation.\n",
            "1: Kevin Bacon and Tom Cruise starred in A Few Good Men\n"
          ]
        }
      ],
      "source": [
        "main()"
      ]
    },
    {
      "cell_type": "markdown",
      "source": [
        "We observe that Breadth first search found the path between the source and target as 2, whereas Depth first search kept exploring the same search tree and found the target at a far greater depth (1026). This clearly shows that Breadth First Search gives the far more optimal path/ solution for a state space search and than Depth First search. This is becuase Breadth first search searches for the states at the same level while Depth first search continues to explore the same search tree until it either find the solution or reaches a node whih has not successors which the search has not previously seen"
      ],
      "metadata": {
        "id": "oPzibRwZaYxD"
      }
    },
    {
      "cell_type": "code",
      "source": [],
      "metadata": {
        "id": "q9mGCWMRNDvU"
      },
      "execution_count": null,
      "outputs": []
    }
  ],
  "metadata": {
    "colab": {
      "provenance": []
    },
    "kernelspec": {
      "display_name": "Python 3",
      "name": "python3"
    },
    "language_info": {
      "name": "python"
    },
    "gpuClass": "standard"
  },
  "nbformat": 4,
  "nbformat_minor": 0
}